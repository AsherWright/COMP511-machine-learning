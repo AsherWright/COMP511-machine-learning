{
 "cells": [
  {
   "cell_type": "code",
   "execution_count": 74,
   "metadata": {},
   "outputs": [],
   "source": [
    "import matplotlib.pyplot as plt\n",
    "import pandas as pd\n",
    "import numpy as np\n",
    "import re\n",
    "import collections\n",
    "import random\n",
    "from sklearn.metrics import f1_score, accuracy_score\n",
    "from sklearn.naive_bayes import GaussianNB, BernoulliNB\n",
    "from sklearn import tree, svm\n",
    "\n",
    "#data import\n",
    "#taken from Reddit discussion: https://www.reddit.com/r/McGill_comp551s1/comments/7x2sdy/assignment3/\n",
    "yelp_train = pd.read_csv('Datasets/yelp-train.txt',sep='\\t',names=[\"Comment\", \"Evaluation\"])\n",
    "yelp_test = pd.read_csv('Datasets/yelp-test.txt',sep='\\t',names=[\"Comment\", \"Evaluation\"])\n",
    "yelp_valid = pd.read_csv('Datasets/yelp-valid.txt',sep='\\t',names=[\"Comment\", \"Evaluation\"])\n",
    "imdb_train = pd.read_csv('Datasets/IMDB-train.txt',sep='\\t',names=[\"Comment\", \"Evaluation\"])\n",
    "imdb_test =  pd.read_csv('Datasets/IMDB-test.txt',sep='\\t',names=[\"Comment\", \"Evaluation\"])\n",
    "imdb_valid =  pd.read_csv('Datasets/IMDB-valid.txt',sep='\\t',names=[\"Comment\", \"Evaluation\"])"
   ]
  },
  {
   "cell_type": "code",
   "execution_count": 46,
   "metadata": {
    "collapsed": true
   },
   "outputs": [],
   "source": [
    "#data clean up\n",
    "def pre_process(review):\n",
    "    #we remove the breaks from the dataset\n",
    "    review = re.sub('<br /><br />', '', review)\n",
    "    return re.sub(r'[^a-zA-Z ]', '', review).lower()\n",
    "\n",
    "#remove all punctuation and put to lower case\n",
    "for i, row in yelp_train.iterrows():\n",
    "    yelp_train.set_value(i,'Comment',pre_process(row['Comment']))\n",
    "for i, row in imdb_train.iterrows():\n",
    "    imdb_train.set_value(i,'Comment',pre_process(row['Comment']))"
   ]
  },
  {
   "cell_type": "code",
   "execution_count": 47,
   "metadata": {
    "collapsed": true
   },
   "outputs": [],
   "source": [
    "def get_vocabulary(training_set):\n",
    "    # Now go through and find the frequency of each word\n",
    "    unsorted_vocabulary = {}\n",
    "\n",
    "    #populate the unsorted vocab\n",
    "    for review in training_set['Comment']:\n",
    "        #filter removes the blank spaces\n",
    "        for word in filter(None, review.split(' ')):\n",
    "            if(word in unsorted_vocabulary):\n",
    "                    unsorted_vocabulary[word] += 1\n",
    "            else:\n",
    "                unsorted_vocabulary[word] = 1\n",
    "\n",
    "    #now we will create a sorted vocab of the top 10000 words\n",
    "    return collections.Counter(unsorted_vocabulary).most_common(10000)"
   ]
  },
  {
   "cell_type": "code",
   "execution_count": 48,
   "metadata": {
    "collapsed": true
   },
   "outputs": [],
   "source": [
    "def generate_bbow_vector(words, sentence):\n",
    "    sentence = pre_process(sentence)\n",
    "    vector = np.zeros(10000)\n",
    "    for word in filter(None, sentence.split(' ')):\n",
    "        if(word in words):\n",
    "            vector[words.index(word)] = 1\n",
    "    return vector\n",
    "\n",
    "def generate_freq_vector(words, sentence):\n",
    "    sentence = pre_process(sentence)\n",
    "    vector = np.zeros(10000)\n",
    "    total_words_in_vocab = 0\n",
    "    for word in filter(None, sentence.split(' ')):\n",
    "        if(word in words):\n",
    "            total_words_in_vocab += 1.\n",
    "            vector[words.index(word)] += 1.\n",
    "    for i in range(0, len(vector)):\n",
    "        if(total_words_in_vocab != 0):\n",
    "            vector[i] = vector[i] / total_words_in_vocab\n",
    "    return vector"
   ]
  },
  {
   "cell_type": "code",
   "execution_count": 49,
   "metadata": {
    "collapsed": true
   },
   "outputs": [],
   "source": [
    "yelp_vocabulary = get_vocabulary(yelp_train)\n",
    "yelp_words = [i[0] for i in yelp_vocabulary]\n",
    "\n",
    "imdb_vocabulary = get_vocabulary(imdb_train)\n",
    "imdb_words = [i[0] for i in imdb_vocabulary]\n",
    "\n",
    "# print(generate_bbow_vector(yelp_words, \"willow and of the\"))\n",
    "# print(generate_freq_vector(yelp_words, \"willow asdlkfjalsdfk and and of the\"))\n",
    "# print(generate_bbow_vector(imdb_words, \"willow and of the\"))\n",
    "# print(generate_freq_vector(imdb_words, \"willow asdlkfjalsdfk and and of the\"))"
   ]
  },
  {
   "cell_type": "code",
   "execution_count": 50,
   "metadata": {
    "collapsed": true
   },
   "outputs": [],
   "source": [
    "# Now we will create the IMDB and YELP datasets, as described in the report handout\n",
    "def create_vocab_file(vocabulary, filename):\n",
    "    word_count = 1\n",
    "    with open(filename, 'w') as the_file:\n",
    "        for i, item in vocabulary:\n",
    "            the_file.write(str(word_count) + \"\\t\" + str(i) + \"\\t\" + str(item) + \"\\n\")\n",
    "            word_count +=1\n",
    "\n",
    "create_vocab_file(yelp_vocabulary, \"Datasets/yelp-vocab.txt\")\n",
    "create_vocab_file(imdb_vocabulary, \"Datasets/IMDB-vocab.txt\")"
   ]
  },
  {
   "cell_type": "code",
   "execution_count": 51,
   "metadata": {
    "collapsed": true
   },
   "outputs": [],
   "source": [
    "#From here on in, we will be actually training and testing\n",
    "\n",
    "# this method will take in a bunch of data and calculate F1\n",
    "def random_classifier(train_data, test_data, min_class, max_class):\n",
    "    test_prediction = []\n",
    "    train_prediction = []\n",
    "    \n",
    "    # go through data and choose a random class\n",
    "    for i in range(0, len(train_data)):\n",
    "        class_predict = random.randint(min_class, max_class)\n",
    "        train_prediction.append(class_predict)\n",
    "    for i in range(0, len(test_data)):\n",
    "        class_predict = random.randint(min_class, max_class)\n",
    "        test_prediction.append(class_predict)\n",
    "    return train_prediction, test_prediction\n"
   ]
  },
  {
   "cell_type": "code",
   "execution_count": 52,
   "metadata": {},
   "outputs": [
    {
     "name": "stdout",
     "output_type": "stream",
     "text": [
      "Train f1 is 0.200285714286, Test F1 is 0.2055\n"
     ]
    }
   ],
   "source": [
    "#Yelp Random\n",
    "yelp_random_train_predict, yelp_random_test_predict = random_classifier(yelp_train, yelp_test, 1, 5)\n",
    "yelp_rand_train_f1 = f1_score(yelp_train['Evaluation'], yelp_random_train_predict, average='micro')\n",
    "yelp_rand_test_f1 = f1_score(yelp_test['Evaluation'], yelp_random_test_predict, average='micro')\n",
    "\n",
    "print(\"Train f1 is \" + str(yelp_rand_train_f1) + \", Test F1 is \" + str(yelp_rand_test_f1))"
   ]
  },
  {
   "cell_type": "code",
   "execution_count": 53,
   "metadata": {},
   "outputs": [
    {
     "name": "stdout",
     "output_type": "stream",
     "text": [
      "Train f1 is 0.504853078048, Test F1 is 0.495889641898\n"
     ]
    }
   ],
   "source": [
    "#IMDB Random\n",
    "\n",
    "imdb_random_train_predict, imdb_random_test_predict = random_classifier(imdb_train, imdb_test, 0,1)\n",
    "imdb_rand_train_f1 = f1_score(imdb_train['Evaluation'], imdb_random_train_predict)\n",
    "imdb_rand_test_f1 = f1_score(imdb_test['Evaluation'], imdb_random_test_predict)\n",
    "\n",
    "\n",
    "print(\"Train f1 is \" + str(imdb_rand_train_f1) + \", Test F1 is \" + str(imdb_rand_test_f1))"
   ]
  },
  {
   "cell_type": "code",
   "execution_count": 54,
   "metadata": {
    "collapsed": true
   },
   "outputs": [],
   "source": [
    "def majority_classifier(train_data, test_data):\n",
    "    train_mode = train_data['Evaluation'].mode()[0]\n",
    "    test_mode = test_data['Evaluation'].mode()[0]\n",
    "    \n",
    "    train_prediction = [train_mode] * len(train_data)\n",
    "    test_prediction = [test_mode] * len(test_data)\n",
    "    return train_prediction, test_prediction"
   ]
  },
  {
   "cell_type": "code",
   "execution_count": 55,
   "metadata": {},
   "outputs": [
    {
     "name": "stdout",
     "output_type": "stream",
     "text": [
      "Train f1 is 0.352571428571, Test F1 is 0.351\n"
     ]
    }
   ],
   "source": [
    "#Yelp Majority Classifier\n",
    "yelp_maj_train_predict, yelp_maj_test_predict = majority_classifier(yelp_train, yelp_test)\n",
    "yelp_rand_train_f1 = f1_score(yelp_train['Evaluation'], yelp_maj_train_predict, average='micro')\n",
    "yelp_rand_test_f1 = f1_score(yelp_test['Evaluation'], yelp_maj_test_predict, average='micro')\n",
    "\n",
    "print(\"Train f1 is \" + str(yelp_rand_train_f1) + \", Test F1 is \" + str(yelp_rand_test_f1))"
   ]
  },
  {
   "cell_type": "code",
   "execution_count": 56,
   "metadata": {},
   "outputs": [
    {
     "name": "stdout",
     "output_type": "stream",
     "text": [
      "Train accuracy is 0.5, Test accuracy is 0.5\n"
     ]
    }
   ],
   "source": [
    "#IMDB Majority Classifier\n",
    "imdb_maj_train_predict, imdb_maj_test_predict = majority_classifier(imdb_train, imdb_test)\n",
    "imdb_rand_train_f1 = accuracy_score(imdb_train['Evaluation'], imdb_maj_train_predict)\n",
    "imdb_rand_test_f1 = accuracy_score(imdb_test['Evaluation'], imdb_maj_test_predict)\n",
    "\n",
    "print(\"Train accuracy is \" + str(imdb_rand_train_f1) + \", Test accuracy is \" + str(imdb_rand_test_f1))"
   ]
  },
  {
   "cell_type": "code",
   "execution_count": 58,
   "metadata": {},
   "outputs": [],
   "source": [
    "#first make the training features matrix\n",
    "yelp_training_inputs = [[] for i in range(2)]\n",
    "yelp_testing_inputs = [[] for i in range(2)]\n",
    "yelp_validation_inputs = [[] for i in range(2)]\n",
    "\n",
    "#first do yelp\n",
    "for sentence in yelp_train['Comment']:\n",
    "    yelp_training_inputs[0].append(generate_bbow_vector(yelp_words, sentence))\n",
    "    yelp_training_inputs[1].append(generate_freq_vector(yelp_words, sentence))\n",
    "\n",
    "for sentence in yelp_test['Comment']:\n",
    "    yelp_testing_inputs[0].append(generate_bbow_vector(yelp_words, sentence))\n",
    "    yelp_testing_inputs[1].append(generate_freq_vector(yelp_words, sentence))\n",
    "\n",
    "for sentence in yelp_valid['Comment']:\n",
    "    yelp_validation_inputs[0].append(generate_bbow_vector(yelp_words, sentence))\n",
    "    yelp_validation_inputs[1].append(generate_bbow_vector(yelp_words, sentence))#Get all of the inputs for IMDB, too.\n"
   ]
  },
  {
   "cell_type": "code",
   "execution_count": 59,
   "metadata": {
    "collapsed": true
   },
   "outputs": [],
   "source": [
    "#now do the same for IMDB\n",
    "imdb_training_inputs = [[] for i in range(2)]\n",
    "imdb_testing_inputs = [[] for i in range(2)]\n",
    "imdb_validation_inputs = [[] for i in range(2)]\n",
    "\n",
    "# we will separate into different jupyter blocks to save debugging time\n",
    "for sentence in imdb_train['Comment']:\n",
    "    imdb_training_inputs[0].append(generate_bbow_vector(imdb_words, sentence))\n",
    "    imdb_training_inputs[1].append(generate_freq_vector(imdb_words, sentence))"
   ]
  },
  {
   "cell_type": "code",
   "execution_count": 60,
   "metadata": {
    "collapsed": true
   },
   "outputs": [],
   "source": [
    "#test\n",
    "for sentence in imdb_test['Comment']:\n",
    "    imdb_testing_inputs[0].append(generate_bbow_vector(imdb_words, sentence))\n",
    "    imdb_testing_inputs[1].append(generate_freq_vector(imdb_words, sentence))"
   ]
  },
  {
   "cell_type": "code",
   "execution_count": 61,
   "metadata": {
    "collapsed": true
   },
   "outputs": [],
   "source": [
    "#validation\n",
    "for sentence in imdb_valid['Comment']:\n",
    "    imdb_validation_inputs[0].append(generate_bbow_vector(imdb_words, sentence))\n",
    "    imdb_validation_inputs[1].append(generate_bbow_vector(imdb_words, sentence))"
   ]
  },
  {
   "cell_type": "code",
   "execution_count": 62,
   "metadata": {
    "collapsed": true
   },
   "outputs": [],
   "source": [
    "def run_classifier(classifier, train_input, train_target, valid_input, valid_target, test_input, test_target):\n",
    "    classifier.fit(train_input, train_target)\n",
    "    train_target_pred = classifier.predict(train_input)\n",
    "    valid_target_pred = classifier.predict(valid_input)\n",
    "    test_target_pred = classifier.predict(test_input)\n",
    "\n",
    "    train_f1 = f1_score(train_target, train_target_pred, average='micro')\n",
    "    valid_f1 = f1_score(valid_target, valid_target_pred, average='micro')\n",
    "    test_f1 = f1_score(test_target, test_target_pred, average='micro')\n",
    "    return train_f1, valid_f1, test_f1"
   ]
  },
  {
   "cell_type": "code",
   "execution_count": 63,
   "metadata": {},
   "outputs": [],
   "source": [
    "def run_yelp_classifiers(classifiers, data_index):\n",
    "    #run it on each classifier and print the results (BBOW)\n",
    "    for classifier in classifiers:\n",
    "        metrics = run_classifier(classifier[1], yelp_training_inputs[data_index],   yelp_train['Evaluation'], \n",
    "                                                yelp_validation_inputs[data_index], yelp_valid['Evaluation'], \n",
    "                                                yelp_testing_inputs[data_index],    yelp_test['Evaluation'])\n",
    "        print(str(classifier[0]) + str(metrics))\n",
    "\n",
    "def run_imdb_classifiers(classifiers, data_index):\n",
    "    #run it on each classifier and print the results (BBOW)\n",
    "    for classifier in classifiers:\n",
    "        metrics = run_classifier(classifier[1], imdb_training_inputs[data_index],   imdb_train['Evaluation'], \n",
    "                                                imdb_validation_inputs[data_index], imdb_valid['Evaluation'], \n",
    "                                                imdb_testing_inputs[data_index],    imdb_test['Evaluation'])\n",
    "        print(str(classifier[0]) + str(metrics))"
   ]
  },
  {
   "cell_type": "code",
   "execution_count": 64,
   "metadata": {},
   "outputs": [
    {
     "name": "stdout",
     "output_type": "stream",
     "text": [
      "Bernoulli Naive Bayes: (0.59771428571428575, 0.38100000000000001, 0.40949999999999998)\n",
      "Decision Trees: (1.0, 0.33200000000000002, 0.34300000000000003)\n",
      "SVM: (0.998, 0.441, 0.44900000000000001)\n"
     ]
    }
   ],
   "source": [
    "#Create the classifiers we want to use to train and test our data\n",
    "classifiers = []\n",
    "#We use bernoulli here since, with the binary bag of words, the features are binary.\n",
    "classifiers.append((\"Bernoulli Naive Bayes: \", BernoulliNB()))\n",
    "classifiers.append((\"Decision Trees: \", tree.DecisionTreeClassifier()))\n",
    "classifiers.append((\"SVM: \", svm.LinearSVC()))\n",
    "\n",
    "#run the classifiers for BBOW (data_index = 0)\n",
    "run_yelp_classifiers(classifiers, 0)"
   ]
  },
  {
   "cell_type": "code",
   "execution_count": 65,
   "metadata": {},
   "outputs": [
    {
     "name": "stdout",
     "output_type": "stream",
     "text": [
      "Gaussian Naive Bayes: (0.8025714285714286, 0.36799999999999999, 0.31)\n",
      "Decision Trees: (1.0, 0.309, 0.36699999999999999)\n",
      "SVM: (0.50257142857142856, 0.44400000000000001, 0.46200000000000002)\n"
     ]
    }
   ],
   "source": [
    "#We will now alter our classifiers list for the frequency representation\n",
    "classifiers[0] = (\"Gaussian Naive Bayes: \", GaussianNB())\n",
    "# Now we rerun with data_index = 1 (Frequency data)\n",
    "run_yelp_classifiers(classifiers, 1)"
   ]
  },
  {
   "cell_type": "code",
   "execution_count": 66,
   "metadata": {},
   "outputs": [
    {
     "name": "stdout",
     "output_type": "stream",
     "text": [
      "Bernoulli Naive Bayes: (0.86839999999999995, 0.84099999999999997, 0.83132000000000006)\n",
      "Decision Trees: (1.0, 0.6966, 0.69855999999999996)\n",
      "SVM: (1.0, 0.84190000000000009, 0.82979999999999998)\n"
     ]
    }
   ],
   "source": [
    "#now we will repeat with IMDB...\n",
    "classifiers[0] = (\"Bernoulli Naive Bayes: \", BernoulliNB())\n",
    "run_imdb_classifiers(classifiers, 0)"
   ]
  },
  {
   "cell_type": "code",
   "execution_count": 67,
   "metadata": {},
   "outputs": [
    {
     "name": "stdout",
     "output_type": "stream",
     "text": [
      "Gaussian Naive Bayes: (0.86113333333333331, 0.76629999999999998, 0.68759999999999999)\n",
      "Decision Trees: (1.0, 0.54390000000000005, 0.69284000000000001)\n",
      "SVM: (0.80620000000000003, 0.80200000000000005, 0.79100000000000004)\n"
     ]
    }
   ],
   "source": [
    "#We will now alter our classifiers list for the frequency representation\n",
    "classifiers[0] = (\"Gaussian Naive Bayes: \", GaussianNB())\n",
    "# Now we rerun with data_index = 1 (Frequency data)\n",
    "run_imdb_classifiers(classifiers, 1)"
   ]
  },
  {
   "cell_type": "code",
   "execution_count": 68,
   "metadata": {
    "collapsed": true
   },
   "outputs": [],
   "source": [
    "#Now we will do some tuning of hyperparameters. First we need a method that returns the accuracy of a validation set.\n",
    "def run_classifier_validation(classifier, train_input, train_target, valid_input, valid_target):\n",
    "    classifier.fit(train_input, train_target)\n",
    "    valid_target_pred = classifier.predict(valid_input)\n",
    "    return f1_score(valid_target, valid_target_pred, average='micro')\n",
    "\n",
    "#now we will run this on different hyperparameters and see what the best values to choose are."
   ]
  },
  {
   "cell_type": "code",
   "execution_count": 78,
   "metadata": {},
   "outputs": [
    {
     "name": "stdout",
     "output_type": "stream",
     "text": [
      "1e-05, 0.401\n",
      "2e-05, 0.403\n",
      "3e-05, 0.404\n",
      "4e-05, 0.406\n",
      "5e-05, 0.406\n",
      "6e-05, 0.407\n",
      "7e-05, 0.407\n",
      "8e-05, 0.408\n",
      "9e-05, 0.406\n",
      "0.0001, 0.406\n",
      "0.0002, 0.409\n",
      "0.0003, 0.411\n",
      "0.0004, 0.413\n",
      "0.0005, 0.418\n",
      "0.0006, 0.416\n",
      "0.0007, 0.416\n",
      "0.0008, 0.418\n",
      "0.0009, 0.418\n",
      "0.001, 0.418\n",
      "0.002, 0.42\n",
      "0.003, 0.42\n",
      "0.004, 0.418\n",
      "0.005, 0.418\n",
      "0.006, 0.419\n",
      "0.007, 0.42\n",
      "0.008, 0.42\n",
      "0.009, 0.423\n",
      "0.01, 0.425\n",
      "0.02, 0.423\n",
      "0.03, 0.421\n",
      "0.04, 0.418\n",
      "0.05, 0.415\n",
      "0.06, 0.412\n",
      "0.07, 0.411\n",
      "0.08, 0.405\n",
      "0.09, 0.407\n",
      "0.1, 0.407\n",
      "0.2, 0.401\n",
      "0.3, 0.397\n",
      "0.4, 0.392\n",
      "0.5, 0.39\n",
      "0.6, 0.387\n",
      "0.7, 0.391\n",
      "0.8, 0.389\n",
      "0.9, 0.385\n",
      "1, 0.381\n",
      "2, 0.384\n",
      "3, 0.375\n",
      "4, 0.371\n",
      "5, 0.377\n",
      "6, 0.375\n",
      "7, 0.377\n",
      "8, 0.379\n",
      "9, 0.377\n",
      "The best validation f1 happens when alpha = 0.01 and is 0.425\n"
     ]
    }
   ],
   "source": [
    "#first we will do Bernoulli on BBOW\n",
    "f1_scores = []\n",
    "max_f1 = 0\n",
    "best_alpha = 0\n",
    "alpha_values = []\n",
    "for exp in range(-5, 1):\n",
    "    for i in range(1, 10):\n",
    "        alpha_values.append(i*10**exp)\n",
    "\n",
    "for alpha in alpha_values:\n",
    "    classifier = BernoulliNB(alpha=alpha)\n",
    "    score = run_classifier_validation(classifier, yelp_training_inputs[0],   yelp_train['Evaluation'], \n",
    "                                                yelp_validation_inputs[0], yelp_valid['Evaluation'])\n",
    "    f1_scores.append(score)\n",
    "    if(score > max_f1):\n",
    "        max_f1 = score\n",
    "        best_alpha = alpha\n",
    "    print(str(alpha) + \", \" + str(score))\n",
    "print(\"The best validation f1 happens when alpha = \" + str(best_alpha) + \" and is \" + str(max_f1))"
   ]
  },
  {
   "cell_type": "code",
   "execution_count": 80,
   "metadata": {},
   "outputs": [
    {
     "data": {
      "image/png": "[encoded data removed]",
      "text/plain": [
       "<matplotlib.figure.Figure at 0xdb692320>"
      ]
     },
     "metadata": {},
     "output_type": "display_data"
    }
   ],
   "source": [
    "plt.plot(alpha_values, f1_scores, 'ro')\n",
    "plt.ylabel('F1 Measure')\n",
    "plt.show()"
   ]
  },
  {
   "cell_type": "code",
   "execution_count": 85,
   "metadata": {},
   "outputs": [
    {
     "name": "stdout",
     "output_type": "stream",
     "text": [
      "(1, 2, 5, 10, 20, 50, 100, 1000, 5000, 10000, 20000)\n",
      "1, 0.385\n",
      "2, 0.376\n",
      "5, 0.379\n",
      "10, 0.389\n",
      "20, 0.361\n",
      "50, 0.349\n",
      "100, 0.357\n",
      "1000, 0.335\n",
      "5000, 0.342\n",
      "10000, 0.356\n",
      "20000, 0.346\n",
      "The best validation f1 happens when max_depth = 10 and is 0.389\n"
     ]
    },
    {
     "data": {
      "image/png": "[encoded data removed]",
      "text/plain": [
       "<matplotlib.figure.Figure at 0xdbf7e4e0>"
      ]
     },
     "metadata": {},
     "output_type": "display_data"
    }
   ],
   "source": [
    "# Next we will do decision trees\n",
    "f1_scores = []\n",
    "max_f1 = 0\n",
    "best_param = 0\n",
    "depth_values = (1,2,5,10,20,50, 100, 1000, 5000, 10000, 20000)\n",
    "\n",
    "for param in depth_values:\n",
    "    classifier =tree.DecisionTreeClassifier(max_depth=param)\n",
    "    score = run_classifier_validation(classifier, yelp_training_inputs[0],   yelp_train['Evaluation'], \n",
    "                                                yelp_validation_inputs[0], yelp_valid['Evaluation'])\n",
    "    f1_scores.append(score)\n",
    "    if(score > max_f1):\n",
    "        max_f1 = score\n",
    "        best_param = param\n",
    "    print(str(param) + \", \" + str(score))\n",
    "print(\"The best validation f1 happens when max_depth = \" + str(best_param) + \" and is \" + str(max_f1))\n"
   ]
  },
  {
   "cell_type": "code",
   "execution_count": null,
   "metadata": {
    "collapsed": true
   },
   "outputs": [],
   "source": [
    "plt.plot(depth_values, f1_scores)\n",
    "plt.ylabel('F1 Measure')\n",
    "plt.show()"
   ]
  },
  {
   "cell_type": "code",
   "execution_count": 91,
   "metadata": {},
   "outputs": [
    {
     "ename": "KeyboardInterrupt",
     "evalue": "",
     "output_type": "error",
     "traceback": [
      "\u001b[1;31m---------------------------------------------------------------------------\u001b[0m",
      "\u001b[1;31mKeyboardInterrupt\u001b[0m                         Traceback (most recent call last)",
      "\u001b[1;32m<ipython-input-91-eec0b5d6b521>\u001b[0m in \u001b[0;36m<module>\u001b[1;34m()\u001b[0m\n\u001b[0;32m     22\u001b[0m             \u001b[0mclassifier\u001b[0m \u001b[1;33m=\u001b[0m \u001b[0msvm\u001b[0m\u001b[1;33m.\u001b[0m\u001b[0mLinearSVC\u001b[0m\u001b[1;33m(\u001b[0m\u001b[0mtol\u001b[0m\u001b[1;33m=\u001b[0m\u001b[0mtol\u001b[0m\u001b[1;33m,\u001b[0m \u001b[0mC\u001b[0m\u001b[1;33m=\u001b[0m\u001b[0mc\u001b[0m\u001b[1;33m,\u001b[0m \u001b[0mmax_iter\u001b[0m\u001b[1;33m=\u001b[0m\u001b[0mmax_iter\u001b[0m\u001b[1;33m)\u001b[0m\u001b[1;33m\u001b[0m\u001b[0m\n\u001b[0;32m     23\u001b[0m             score = run_classifier_validation(classifier, yelp_training_inputs[0],   yelp_train['Evaluation'], \n\u001b[1;32m---> 24\u001b[1;33m                                                         yelp_validation_inputs[0], yelp_valid['Evaluation'])\n\u001b[0m\u001b[0;32m     25\u001b[0m             \u001b[0mf1_scores\u001b[0m\u001b[1;33m.\u001b[0m\u001b[0mappend\u001b[0m\u001b[1;33m(\u001b[0m\u001b[0mscore\u001b[0m\u001b[1;33m)\u001b[0m\u001b[1;33m\u001b[0m\u001b[0m\n\u001b[0;32m     26\u001b[0m             \u001b[1;32mif\u001b[0m\u001b[1;33m(\u001b[0m\u001b[0mscore\u001b[0m \u001b[1;33m>\u001b[0m \u001b[0mmax_f1\u001b[0m\u001b[1;33m)\u001b[0m\u001b[1;33m:\u001b[0m\u001b[1;33m\u001b[0m\u001b[0m\n",
      "\u001b[1;32m<ipython-input-68-c9a8aa6275ee>\u001b[0m in \u001b[0;36mrun_classifier_validation\u001b[1;34m(classifier, train_input, train_target, valid_input, valid_target)\u001b[0m\n\u001b[0;32m      1\u001b[0m \u001b[1;31m#Now we will do some tuning of hyperparameters. First we need a method that returns the accuracy of a validation set.\u001b[0m\u001b[1;33m\u001b[0m\u001b[1;33m\u001b[0m\u001b[0m\n\u001b[0;32m      2\u001b[0m \u001b[1;32mdef\u001b[0m \u001b[0mrun_classifier_validation\u001b[0m\u001b[1;33m(\u001b[0m\u001b[0mclassifier\u001b[0m\u001b[1;33m,\u001b[0m \u001b[0mtrain_input\u001b[0m\u001b[1;33m,\u001b[0m \u001b[0mtrain_target\u001b[0m\u001b[1;33m,\u001b[0m \u001b[0mvalid_input\u001b[0m\u001b[1;33m,\u001b[0m \u001b[0mvalid_target\u001b[0m\u001b[1;33m)\u001b[0m\u001b[1;33m:\u001b[0m\u001b[1;33m\u001b[0m\u001b[0m\n\u001b[1;32m----> 3\u001b[1;33m     \u001b[0mclassifier\u001b[0m\u001b[1;33m.\u001b[0m\u001b[0mfit\u001b[0m\u001b[1;33m(\u001b[0m\u001b[0mtrain_input\u001b[0m\u001b[1;33m,\u001b[0m \u001b[0mtrain_target\u001b[0m\u001b[1;33m)\u001b[0m\u001b[1;33m\u001b[0m\u001b[0m\n\u001b[0m\u001b[0;32m      4\u001b[0m     \u001b[0mvalid_target_pred\u001b[0m \u001b[1;33m=\u001b[0m \u001b[0mclassifier\u001b[0m\u001b[1;33m.\u001b[0m\u001b[0mpredict\u001b[0m\u001b[1;33m(\u001b[0m\u001b[0mvalid_input\u001b[0m\u001b[1;33m)\u001b[0m\u001b[1;33m\u001b[0m\u001b[0m\n\u001b[0;32m      5\u001b[0m     \u001b[1;32mreturn\u001b[0m \u001b[0mf1_score\u001b[0m\u001b[1;33m(\u001b[0m\u001b[0mvalid_target\u001b[0m\u001b[1;33m,\u001b[0m \u001b[0mvalid_target_pred\u001b[0m\u001b[1;33m,\u001b[0m \u001b[0maverage\u001b[0m\u001b[1;33m=\u001b[0m\u001b[1;34m'micro'\u001b[0m\u001b[1;33m)\u001b[0m\u001b[1;33m\u001b[0m\u001b[0m\n",
      "\u001b[1;32mC:\\ProgramData\\Anaconda2\\lib\\site-packages\\sklearn\\svm\\classes.py\u001b[0m in \u001b[0;36mfit\u001b[1;34m(self, X, y, sample_weight)\u001b[0m\n\u001b[0;32m    225\u001b[0m \u001b[1;33m\u001b[0m\u001b[0m\n\u001b[0;32m    226\u001b[0m         X, y = check_X_y(X, y, accept_sparse='csr',\n\u001b[1;32m--> 227\u001b[1;33m                          dtype=np.float64, order=\"C\")\n\u001b[0m\u001b[0;32m    228\u001b[0m         \u001b[0mcheck_classification_targets\u001b[0m\u001b[1;33m(\u001b[0m\u001b[0my\u001b[0m\u001b[1;33m)\u001b[0m\u001b[1;33m\u001b[0m\u001b[0m\n\u001b[0;32m    229\u001b[0m         \u001b[0mself\u001b[0m\u001b[1;33m.\u001b[0m\u001b[0mclasses_\u001b[0m \u001b[1;33m=\u001b[0m \u001b[0mnp\u001b[0m\u001b[1;33m.\u001b[0m\u001b[0munique\u001b[0m\u001b[1;33m(\u001b[0m\u001b[0my\u001b[0m\u001b[1;33m)\u001b[0m\u001b[1;33m\u001b[0m\u001b[0m\n",
      "\u001b[1;32mC:\\ProgramData\\Anaconda2\\lib\\site-packages\\sklearn\\utils\\validation.py\u001b[0m in \u001b[0;36mcheck_X_y\u001b[1;34m(X, y, accept_sparse, dtype, order, copy, force_all_finite, ensure_2d, allow_nd, multi_output, ensure_min_samples, ensure_min_features, y_numeric, warn_on_dtype, estimator)\u001b[0m\n\u001b[0;32m    571\u001b[0m     X = check_array(X, accept_sparse, dtype, order, copy, force_all_finite,\n\u001b[0;32m    572\u001b[0m                     \u001b[0mensure_2d\u001b[0m\u001b[1;33m,\u001b[0m \u001b[0mallow_nd\u001b[0m\u001b[1;33m,\u001b[0m \u001b[0mensure_min_samples\u001b[0m\u001b[1;33m,\u001b[0m\u001b[1;33m\u001b[0m\u001b[0m\n\u001b[1;32m--> 573\u001b[1;33m                     ensure_min_features, warn_on_dtype, estimator)\n\u001b[0m\u001b[0;32m    574\u001b[0m     \u001b[1;32mif\u001b[0m \u001b[0mmulti_output\u001b[0m\u001b[1;33m:\u001b[0m\u001b[1;33m\u001b[0m\u001b[0m\n\u001b[0;32m    575\u001b[0m         y = check_array(y, 'csr', force_all_finite=True, ensure_2d=False,\n",
      "\u001b[1;32mC:\\ProgramData\\Anaconda2\\lib\\site-packages\\sklearn\\utils\\validation.py\u001b[0m in \u001b[0;36mcheck_array\u001b[1;34m(array, accept_sparse, dtype, order, copy, force_all_finite, ensure_2d, allow_nd, ensure_min_samples, ensure_min_features, warn_on_dtype, estimator)\u001b[0m\n\u001b[0;32m    431\u001b[0m                                       force_all_finite)\n\u001b[0;32m    432\u001b[0m     \u001b[1;32melse\u001b[0m\u001b[1;33m:\u001b[0m\u001b[1;33m\u001b[0m\u001b[0m\n\u001b[1;32m--> 433\u001b[1;33m         \u001b[0marray\u001b[0m \u001b[1;33m=\u001b[0m \u001b[0mnp\u001b[0m\u001b[1;33m.\u001b[0m\u001b[0marray\u001b[0m\u001b[1;33m(\u001b[0m\u001b[0marray\u001b[0m\u001b[1;33m,\u001b[0m \u001b[0mdtype\u001b[0m\u001b[1;33m=\u001b[0m\u001b[0mdtype\u001b[0m\u001b[1;33m,\u001b[0m \u001b[0morder\u001b[0m\u001b[1;33m=\u001b[0m\u001b[0morder\u001b[0m\u001b[1;33m,\u001b[0m \u001b[0mcopy\u001b[0m\u001b[1;33m=\u001b[0m\u001b[0mcopy\u001b[0m\u001b[1;33m)\u001b[0m\u001b[1;33m\u001b[0m\u001b[0m\n\u001b[0m\u001b[0;32m    434\u001b[0m \u001b[1;33m\u001b[0m\u001b[0m\n\u001b[0;32m    435\u001b[0m         \u001b[1;32mif\u001b[0m \u001b[0mensure_2d\u001b[0m\u001b[1;33m:\u001b[0m\u001b[1;33m\u001b[0m\u001b[0m\n",
      "\u001b[1;31mKeyboardInterrupt\u001b[0m: "
     ]
    }
   ],
   "source": [
    "# Next we will do decision trees\n",
    "f1_scores = []\n",
    "max_f1 = 0\n",
    "best_tol = 0\n",
    "best_max_iter = 0\n",
    "best_c = 0\n",
    "tols = []\n",
    "for exp in range(-6, 4):\n",
    "    for i in range(1, 10,4):\n",
    "        tols.append(i*10**exp)\n",
    "        \n",
    "max_iters = (1, 2, 5, 10)\n",
    "\n",
    "cs = []\n",
    "for exp in range(-1, 1):\n",
    "    for i in range(1, 10,2):\n",
    "        cs.append(i*10**exp)\n",
    "        \n",
    "for max_iter in max_iters:\n",
    "    for c in cs:\n",
    "        for tol in tols:\n",
    "            classifier = svm.LinearSVC(tol=tol, C=c, max_iter=max_iter)\n",
    "            score = run_classifier_validation(classifier, yelp_training_inputs[0],   yelp_train['Evaluation'], \n",
    "                                                        yelp_validation_inputs[0], yelp_valid['Evaluation'])\n",
    "            f1_scores.append(score)\n",
    "            if(score > max_f1):\n",
    "                max_f1 = score\n",
    "                best_tol= tol\n",
    "                best_max_iter = max_iter\n",
    "                best_c = c\n",
    "print(\"The best validation f1 happens when params = \" + str((best_tol, best_max_iter, best_c)) + \" and is \" + str(max_f1))\n"
   ]
  },
  {
   "cell_type": "code",
   "execution_count": null,
   "metadata": {
    "collapsed": true
   },
   "outputs": [],
   "source": []
  }
 ],
 "metadata": {
  "kernelspec": {
   "display_name": "Python 2",
   "language": "python",
   "name": "python2"
  },
  "language_info": {
   "codemirror_mode": {
    "name": "ipython",
    "version": 2
   },
   "file_extension": ".py",
   "mimetype": "text/x-python",
   "name": "python",
   "nbconvert_exporter": "python",
   "pygments_lexer": "ipython2",
   "version": "2.7.14"
  }
 },
 "nbformat": 4,
 "nbformat_minor": 2
}
