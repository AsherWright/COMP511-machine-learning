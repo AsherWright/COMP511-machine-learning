{
 "cells": [
  {
   "cell_type": "code",
   "execution_count": 1,
   "metadata": {
    "collapsed": true
   },
   "outputs": [],
   "source": [
    "#Q1 setup - Asher Wright\n",
    "import numpy as np\n",
    "import matplotlib.pyplot as plt\n",
    "\n",
    "def calculate_MSE(xs, ys, params):\n",
    "    err = 0\n",
    "    for i in range(0, len(xs)):\n",
    "        exp_y = 0\n",
    "        for j in range(0, len(params)):\n",
    "            exp_y += params[j]*(xs[i]**j)\n",
    "        err += (exp_y - ys[i])**2\n",
    "    return err / len(xs)\n",
    "\n",
    "train = np.genfromtxt(open(\"Datasets/Dataset_1_train.csv\", \"rb\"), delimiter=\",\")\n",
    "validate = np.genfromtxt(open(\"Datasets/Dataset_1_valid.csv\", \"rb\"), delimiter=\",\") \n",
    "test = np.genfromtxt(open(\"Datasets/Dataset_1_test.csv\", \"rb\"), delimiter = \",\")\n",
    "\n",
    "train_xs = train[:, 0]\n",
    "train_ys = train[:, 1]\n",
    "validate_xs = validate[:, 0] \n",
    "validate_ys = validate[:, 1]\n",
    "test_xs = test[:, 0]\n",
    "test_ys = test[:, 1]\n",
    "\n",
    "train_length = len(train_xs)\n",
    "DEGREE = 20"
   ]
  },
  {
   "cell_type": "code",
   "execution_count": 2,
   "metadata": {},
   "outputs": [
    {
     "name": "stdout",
     "output_type": "stream",
     "text": [
      "[  1.64714058e+00  -7.36862071e+01  -4.39443821e+01   5.31017728e+03\n",
      "  -5.14772066e+03  -1.07291214e+05   1.16548183e+05   9.52443054e+05\n",
      "  -1.04833085e+06  -4.51862561e+06   4.95312544e+06   1.25019327e+07\n",
      "  -1.35046407e+07  -2.07918372e+07   2.19487465e+07   2.04540331e+07\n",
      "  -2.09674181e+07  -1.09596576e+07   1.08583430e+07   2.46392316e+06\n",
      "  -2.35108775e+06]\n"
     ]
    },
    {
     "data": {
      "image/png": "[encoded data removed]",
      "text/plain": [
       "<matplotlib.figure.Figure at 0x9c9a7f0>"
      ]
     },
     "metadata": {},
     "output_type": "display_data"
    },
    {
     "name": "stdout",
     "output_type": "stream",
     "text": [
      "Training MSE = 100.106618133\n",
      "Validation MSE = 661.36589168\n"
     ]
    }
   ],
   "source": [
    "#Q1a - Asher Wright\n",
    "X = np.zeros((train_length, DEGREE+1))\n",
    "\n",
    "for exponent in range(0, DEGREE+1):\n",
    "      for i in range(0, train_length):\n",
    "            X[i][exponent] = train_xs[i] ** exponent\n",
    "\n",
    "XT = X.transpose()\n",
    "\n",
    "XTX = np.matmul(XT, X)\n",
    "XTXI = np.linalg.inv(XTX)\n",
    "XTXIXT = np.matmul(XTXI, XT)\n",
    "\n",
    "b = np.matmul(XTXIXT, test_ys)\n",
    "\n",
    "polynomial = np.poly1d(b[::-1])\n",
    "print(b)\n",
    "x_poly = np.arange(-1,1,0.01)\n",
    "y_poly = polynomial(x_poly)\n",
    "\n",
    "plt.plot(x_poly, y_poly)\n",
    "plt.plot(train_xs, train_ys, 'ro')\n",
    "plt.show()\n",
    "print(\"Training MSE = \" + str(calculate_MSE(train_xs, train_ys, b)))\n",
    "print(\"Validation MSE = \" + str(calculate_MSE(validate_xs, validate_ys, b)))"
   ]
  },
  {
   "cell_type": "code",
   "execution_count": 3,
   "metadata": {},
   "outputs": [
    {
     "data": {
      "image/png": "[encoded data removed]",
      "text/plain": [
       "<matplotlib.figure.Figure at 0x6d178d0>"
      ]
     },
     "metadata": {},
     "output_type": "display_data"
    },
    {
     "name": "stdout",
     "output_type": "stream",
     "text": [
      "The best value for lambda is 0.0196, where the error is 9.69918044261\n"
     ]
    }
   ],
   "source": [
    "#Q1b - Asher Wright\n",
    "#Step 1: Solve least square eq on train set\n",
    "#Step 2: Use validation set to find best lambda\n",
    "X = np.zeros((train_length, DEGREE+1))\n",
    "identity_matrix = np.zeros((DEGREE+1, DEGREE+1))\n",
    "\n",
    "for exponent in range(0, DEGREE+1):\n",
    "    for i in range(0, train_length):\n",
    "        X[i][exponent] = train_xs[i] ** exponent\n",
    "    identity_matrix[exponent][exponent] = 1;\n",
    "    \n",
    "XT = X.transpose()\n",
    "\n",
    "XTX = np.matmul(XT, X)\n",
    "\n",
    "lambda_count = 5000\n",
    "upper_bound = 1\n",
    "lambdas = np.zeros(lambda_count)\n",
    "train_MSEs = np.zeros(lambda_count)\n",
    "validate_MSEs = np.zeros(lambda_count)\n",
    "\n",
    "min_validate_MSE = float(\"inf\")\n",
    "lambda_at_min = 0\n",
    "\n",
    "#Go through lambdas and find best one.\n",
    "for l_index in range(0, lambda_count):\n",
    "    lam = l_index/(lambda_count * 1.) * (upper_bound)\n",
    "    lambdas[l_index] = lam\n",
    "    lambdaI = lam * identity_matrix\n",
    "    #G is equal to X transpose * X plus Lambda * I\n",
    "    G = np.add(XTX, lambdaI)\n",
    "    Ginv = np.linalg.inv(G)\n",
    "    GinvXT = np.matmul(Ginv, XT)\n",
    "    b = np.matmul(GinvXT, train_ys)\n",
    "    \n",
    "    #calculate the MSE and add it to our array\n",
    "    train_MSEs[l_index] = calculate_MSE(train_xs, train_ys, b)\n",
    "    validate_MSEs[l_index] = calculate_MSE(validate_xs, validate_ys, b)\n",
    "    if(validate_MSEs[l_index] < min_validate_MSE):\n",
    "       min_validate_MSE = validate_MSEs[l_index]\n",
    "       lambda_at_min = lam\n",
    "\n",
    "\n",
    "# Now graph the relationship between lambda and MSE\n",
    "plt.plot(lambdas[1:], train_MSEs[1:], \"ro\")\n",
    "plt.plot(lambdas[1:], validate_MSEs[1:], \"o\")\n",
    "plt.show()\n",
    "print(\"The best value for lambda is \" + str(lambda_at_min) + \", where the error is \" + str(validate_MSEs[l_index]))"
   ]
  },
  {
   "cell_type": "code",
   "execution_count": 4,
   "metadata": {},
   "outputs": [
    {
     "name": "stdout",
     "output_type": "stream",
     "text": [
      "The MSE of the test set is 10.7330023809\n"
     ]
    },
    {
     "data": {
      "image/png": "[encoded data removed]",
      "text/plain": [
       "<matplotlib.figure.Figure at 0x8f19e48>"
      ]
     },
     "metadata": {},
     "output_type": "display_data"
    }
   ],
   "source": [
    "#Q1b continued - Asher Wright\n",
    "#Step 3: See how it looks on the test set\n",
    "#(separate block so that the value of lambda can be cached)\n",
    "\n",
    "#recalculate the b values for the correct lambda\n",
    "lambdaI = lambda_at_min * identity_matrix\n",
    "#G is equal to X transpose * X plus Lambda * I\n",
    "G = np.add(XTX, lambdaI)\n",
    "Ginv = np.linalg.inv(G)\n",
    "GinvXT = np.matmul(Ginv, XT)\n",
    "b = np.matmul(GinvXT, train_ys)\n",
    "\n",
    "#calculate the test set MSE\n",
    "test_MSE = calculate_MSE(test_xs, test_ys, b)\n",
    "\n",
    "print(\"The MSE of the test set is \" + str(test_MSE))\n",
    "\n",
    "#plot the fit on the test set\n",
    "#new_b = b[0:21]\n",
    "#new_polynomial = np.poly1d(new_b[::-1])\n",
    "#new_x_poly = np.arange(-1,1,0.01)\n",
    "#new_y_poly = new_polynomial(new_x_poly)\n",
    "#plt.plot(new_x_poly, new_y_poly)\n",
    "polynomial = np.poly1d(b[::-1])\n",
    "x_poly = np.arange(-1,1,0.01)\n",
    "y_poly = polynomial(x_poly)\n",
    "plt.plot(x_poly, y_poly)\n",
    "plt.plot(test_xs, test_ys, 'o')\n",
    "plt.plot(train_xs, train_ys, 'ro')\n",
    "plt.plot(validate_xs, validate_ys, 'o')\n",
    "plt.show()"
   ]
  },
  {
   "cell_type": "code",
   "execution_count": 5,
   "metadata": {
    "collapsed": true
   },
   "outputs": [],
   "source": [
    "#Q2 Setup\n",
    "import random\n",
    "train = np.genfromtxt(open(\"Datasets/Dataset_2_train.csv\", \"rb\"), delimiter=\",\")\n",
    "validate = np.genfromtxt(open(\"Datasets/Dataset_2_valid.csv\", \"rb\"), delimiter=\",\") \n",
    "test = np.genfromtxt(open(\"Datasets/Dataset_2_test.csv\", \"rb\"), delimiter = \",\")\n",
    "\n",
    "train_xs = train[:, 0]\n",
    "train_ys = train[:, 1]\n",
    "validate_xs = validate[:, 0] \n",
    "validate_ys = validate[:, 1]\n",
    "test_xs = test[:, 0]\n",
    "test_ys = test[:, 1]"
   ]
  },
  {
   "cell_type": "code",
   "execution_count": 28,
   "metadata": {
    "scrolled": true
   },
   "outputs": [
    {
     "data": {
      "image/png": "[encoded data removed]",
      "text/plain": [
       "<matplotlib.figure.Figure at 0xaf89ba8>"
      ]
     },
     "metadata": {},
     "output_type": "display_data"
    },
    {
     "data": {
      "text/plain": [
       "[6.4352614605546936, 6.6140498840555804, 0.0]"
      ]
     },
     "execution_count": 28,
     "metadata": {},
     "output_type": "execute_result"
    }
   ],
   "source": [
    "#Q2.1\n",
    "def train_SGD(alpha, epoch_limit, calculate_test_performance):\n",
    "    #Steps:\n",
    "    # 1. First set all of the weights randomly. We have two weights: w0 and w1 : where y = w0 + x*w1\n",
    "    # 2. Then, we have to go through piece by piece and adjust the weights based on the loss function\n",
    "\n",
    "    #randomly set weights between 0 and 1\n",
    "    ws = [10*random.random(), 10*random.random()]\n",
    "    train_MSEs = np.zeros(epoch_limit)\n",
    "    validate_MSEs = np.zeros(epoch_limit)\n",
    "    test_MSEs = np.zeros(epoch_limit)\n",
    "    \n",
    "    N = len(train_xs)\n",
    "    #do a certain amount of epochs\n",
    "    for k in range(0, epoch_limit):\n",
    "        #all on training data\n",
    "        dLoss = np.zeros(2)\n",
    "        for i in range(0, N):\n",
    "            exp_y = 0\n",
    "            exp_y += ws[0] + ws[1]*train_xs[i]\n",
    "            dLoss[0] += (exp_y - train_ys[i])\n",
    "            dLoss[1] += (exp_y - train_ys[i])*train_xs[i]\n",
    "        dLoss[0] = dLoss[0] / N\n",
    "        dLoss[1] = dLoss[1] / N\n",
    "\n",
    "        #update the weights accordingly\n",
    "        ws[0] = ws[0] - alpha * dLoss[0]\n",
    "        ws[1] = ws[1] - alpha * dLoss[1]\n",
    "        train_MSEs[k] = calculate_MSE(train_xs, train_ys, ws)\n",
    "        validate_MSEs[k] = calculate_MSE(validate_xs, validate_ys, ws)\n",
    "        \n",
    "        if(calculate_test_performance):\n",
    "            test_MSEs[k] = calculate_MSE(test_xs, test_ys, ws)\n",
    "    #plt.plot(range(0, len(train_MSEs)), train_MSEs)\n",
    "    #plt.plot(range(0, len(validate_MSEs)), validate_MSEs)\n",
    "    polynomial = np.poly1d(ws[::-1])\n",
    "    x_poly = np.arange(0,1.5,0.1)\n",
    "    y_poly = polynomial(x_poly)\n",
    "    plt.plot(x_poly, y_poly)\n",
    "    plt.plot(train_xs, train_ys, 'ro')\n",
    "    plt.title(str(epoch_limit) + \" epochs\" + \", alpha = \" + str(alpha))\n",
    "    plt.show()\n",
    "    return [train_MSEs[epoch_limit - 1], validate_MSEs[epoch_limit-1], test_MSEs[epoch_limit-1]]\n",
    "\n",
    "train_SGD(1E-6, 2000, 0)"
   ]
  },
  {
   "cell_type": "code",
   "execution_count": 30,
   "metadata": {},
   "outputs": [
    {
     "ename": "NameError",
     "evalue": "name 'false' is not defined",
     "output_type": "error",
     "traceback": [
      "\u001b[1;31m---------------------------------------------------------------------------\u001b[0m",
      "\u001b[1;31mNameError\u001b[0m                                 Traceback (most recent call last)",
      "\u001b[1;32m<ipython-input-30-71be0501e6eb>\u001b[0m in \u001b[0;36m<module>\u001b[1;34m()\u001b[0m\n\u001b[0;32m      9\u001b[0m \u001b[0mbest_alpha\u001b[0m \u001b[1;33m=\u001b[0m \u001b[1;36m0\u001b[0m\u001b[1;33m\u001b[0m\u001b[0m\n\u001b[0;32m     10\u001b[0m \u001b[1;32mfor\u001b[0m \u001b[0malp\u001b[0m \u001b[1;32min\u001b[0m \u001b[0mtest_alphas\u001b[0m\u001b[1;33m:\u001b[0m\u001b[1;33m\u001b[0m\u001b[0m\n\u001b[1;32m---> 11\u001b[1;33m     \u001b[0mcurr_validation_MSE\u001b[0m \u001b[1;33m=\u001b[0m \u001b[0mtrain_SGD\u001b[0m\u001b[1;33m(\u001b[0m\u001b[0malp\u001b[0m\u001b[1;33m,\u001b[0m \u001b[1;36m2000\u001b[0m\u001b[1;33m,\u001b[0m \u001b[0mfalse\u001b[0m\u001b[1;33m)\u001b[0m\u001b[1;33m[\u001b[0m\u001b[1;36m1\u001b[0m\u001b[1;33m]\u001b[0m\u001b[1;33m\u001b[0m\u001b[0m\n\u001b[0m\u001b[0;32m     12\u001b[0m     \u001b[1;32mif\u001b[0m\u001b[1;33m(\u001b[0m\u001b[0mcurr_validation_MSE\u001b[0m \u001b[1;33m<\u001b[0m \u001b[0mmin_validation_MSE\u001b[0m\u001b[1;33m)\u001b[0m\u001b[1;33m:\u001b[0m\u001b[1;33m\u001b[0m\u001b[0m\n\u001b[0;32m     13\u001b[0m         \u001b[0mmin_validation_MSE\u001b[0m \u001b[1;33m=\u001b[0m \u001b[0mcurr_validation_MSE\u001b[0m\u001b[1;33m\u001b[0m\u001b[0m\n",
      "\u001b[1;31mNameError\u001b[0m: name 'false' is not defined"
     ]
    }
   ],
   "source": [
    "#Q2.2\n",
    "\n",
    "#We will very alpha between 1E-6 and 1, \n",
    "# we will do the values like so: 1E-6, 5E-6, 1E-5, 5E-5, 1E-4, 5E-4, 1E-3, 5E-3, 1E-2 5E-2, 1E-1, 5E-1, 1\n",
    "\n",
    "# while doing this, we will check the validate MSE, and choose the one with the lowest.\n",
    "test_alphas = [1E-6, 5E-6, 1E-5, 5E-5, 1E-4, 5E-4, 1E-3, 5E-3, 1E-2, 5E-2, 1E-1, 5E-1, 1]\n",
    "min_validation_MSE = float(\"inf\")\n",
    "best_alpha = 0\n",
    "for alp in test_alphas:\n",
    "    curr_validation_MSE = train_SGD(alp, 2000, False)[1]\n",
    "    if(curr_validation_MSE < min_validation_MSE):\n",
    "        min_validation_MSE = curr_validation_MSE\n",
    "        best_alpha = alp\n",
    "\n",
    "print(\"The best value of alpha is \" + str(best_alpha) + \" with a validation MSE of \" + str(min_validation_MSE))\n",
    "# we now have the best value of alpha (best_alpha), and we can report how well it does on the test set.\n",
    "# we could do this all above, but there's no reason to involve the test set when optimizing alpha.\n",
    "\n",
    "test_MSE = train_SGD(best_alpha, 2000, true)[2]\n",
    "print(\"Testing MSE = \" + test_MSE + \" for alpha = \" + str(best_alpha) + \" and \" + str(epoch_count) + \" epochs.\")"
   ]
  },
  {
   "cell_type": "code",
   "execution_count": null,
   "metadata": {
    "collapsed": true
   },
   "outputs": [],
   "source": [
    "#Q2.3\n",
    "\n"
   ]
  }
 ],
 "metadata": {
  "kernelspec": {
   "display_name": "Python 2",
   "language": "python",
   "name": "python2"
  },
  "language_info": {
   "codemirror_mode": {
    "name": "ipython",
    "version": 2
   },
   "file_extension": ".py",
   "mimetype": "text/x-python",
   "name": "python",
   "nbconvert_exporter": "python",
   "pygments_lexer": "ipython2",
   "version": "2.7.14"
  }
 },
 "nbformat": 4,
 "nbformat_minor": 2
}
