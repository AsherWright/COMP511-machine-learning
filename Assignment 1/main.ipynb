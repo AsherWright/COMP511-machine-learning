{
 "cells": [
  {
   "cell_type": "code",
   "execution_count": 84,
   "metadata": {},
   "outputs": [],
   "source": [
    "#Q1 setup - Asher Wright\n",
    "import numpy as np\n",
    "import matplotlib.pyplot as plt\n",
    "\n",
    "def calculate_MSE(xs, ys, params):\n",
    "    err = 0\n",
    "    for i in range(0, len(xs)):\n",
    "        exp_y = 0\n",
    "        for j in range(0, len(params)):\n",
    "            exp_y += params[j]*(xs[i]**j)\n",
    "        err += (exp_y - ys[i])**2\n",
    "    return err / len(xs)\n",
    "\n",
    "train = np.genfromtxt(open(\"Datasets/Dataset_1_train.csv\", \"rb\"), delimiter=\",\")\n",
    "validate = np.genfromtxt(open(\"Datasets/Dataset_1_valid.csv\", \"rb\"), delimiter=\",\") \n",
    "test = np.genfromtxt(open(\"Datasets/Dataset_1_test.csv\", \"rb\"), delimiter = \",\")\n",
    "\n",
    "train_xs = train[:, 0]\n",
    "train_ys = train[:, 1]\n",
    "validate_xs = validate[:, 0] \n",
    "validate_ys = validate[:, 1]\n",
    "test_xs = test[:, 0]\n",
    "test_ys = test[:, 1]\n",
    "\n",
    "train_length = len(train_xs)\n",
    "DEGREE = 20"
   ]
  },
  {
   "cell_type": "code",
   "execution_count": 85,
   "metadata": {},
   "outputs": [
    {
     "name": "stdout",
     "output_type": "stream",
     "text": [
      "[  1.63589790e+00  -7.38271283e+01  -4.25281717e+01   5.31825353e+03\n",
      "  -5.20858119e+03  -1.07444936e+05   1.17479087e+05   9.53789773e+05\n",
      "  -1.05531054e+06  -4.52500724e+06   4.98268641e+06   1.25196291e+07\n",
      "  -1.35800639e+07  -2.08213558e+07   2.20669219e+07   2.04831402e+07\n",
      "  -2.10786012e+07  -1.09752648e+07   1.09159390e+07   2.46742574e+06\n",
      "  -2.36370622e+06]\n"
     ]
    },
    {
     "data": {
      "image/png": "[encoded data removed]",
      "text/plain": [
       "<matplotlib.figure.Figure at 0x1139b1bd0>"
      ]
     },
     "metadata": {},
     "output_type": "display_data"
    },
    {
     "name": "stdout",
     "output_type": "stream",
     "text": [
      "Training MSE = 100.171027568\n",
      "Validation MSE = 656.009173835\n"
     ]
    }
   ],
   "source": [
    "#Q1a - Asher Wright\n",
    "X = np.zeros((train_length, DEGREE+1))\n",
    "\n",
    "for exponent in range(0, DEGREE+1):\n",
    "      for i in range(0, train_length):\n",
    "            X[i][exponent] = train_xs[i] ** exponent\n",
    "\n",
    "XT = X.transpose()\n",
    "\n",
    "XTX = np.matmul(XT, X)\n",
    "XTXI = np.linalg.inv(XTX)\n",
    "XTXIXT = np.matmul(XTXI, XT)\n",
    "\n",
    "b = np.matmul(XTXIXT, test_ys)\n",
    "\n",
    "polynomial = np.poly1d(b[::-1])\n",
    "print(b)\n",
    "x_poly = np.arange(-1,1,0.01)\n",
    "y_poly = polynomial(x_poly)\n",
    "\n",
    "plt.plot(x_poly, y_poly)\n",
    "plt.plot(train_xs, train_ys, 'ro')\n",
    "plt.show()\n",
    "print(\"Training MSE = \" + str(calculate_MSE(train_xs, train_ys, b)))\n",
    "print(\"Validation MSE = \" + str(calculate_MSE(validate_xs, validate_ys, b)))"
   ]
  },
  {
   "cell_type": "code",
   "execution_count": 95,
   "metadata": {},
   "outputs": [
    {
     "data": {
      "image/png": "[encoded data removed]",
      "text/plain": [
       "<matplotlib.figure.Figure at 0x10f739590>"
      ]
     },
     "metadata": {},
     "output_type": "display_data"
    },
    {
     "name": "stdout",
     "output_type": "stream",
     "text": [
      "The best value for lambda is 0.0196, where the error is 9.69918044261\n"
     ]
    }
   ],
   "source": [
    "#Q1b - Asher Wright\n",
    "#Step 1: Solve least square eq on train set\n",
    "#Step 2: Use validation set to find best lambda\n",
    "X = np.zeros((train_length, DEGREE+1))\n",
    "identity_matrix = np.zeros((DEGREE+1, DEGREE+1))\n",
    "\n",
    "for exponent in range(0, DEGREE+1):\n",
    "    for i in range(0, train_length):\n",
    "        X[i][exponent] = all_xs[i] ** exponent\n",
    "    identity_matrix[exponent][exponent] = 1;\n",
    "    \n",
    "XT = X.transpose()\n",
    "\n",
    "XTX = np.matmul(XT, X)\n",
    "\n",
    "lambda_count = 5000\n",
    "upper_bound = 1\n",
    "lambdas = np.zeros(lambda_count)\n",
    "train_MSEs = np.zeros(lambda_count)\n",
    "validate_MSEs = np.zeros(lambda_count)\n",
    "\n",
    "min_validate_MSE = float(\"inf\")\n",
    "lambda_at_min = 0\n",
    "\n",
    "#Go through lambdas and find best one.\n",
    "for l_index in range(0, lambda_count):\n",
    "    lam = l_index/(lambda_count * 1.) * (upper_bound)\n",
    "    lambdas[l_index] = lam\n",
    "    lambdaI = lam * identity_matrix\n",
    "    #G is equal to X transpose * X plus Lambda * I\n",
    "    G = np.add(XTX, lambdaI)\n",
    "    Ginv = np.linalg.inv(G)\n",
    "    GinvXT = np.matmul(Ginv, XT)\n",
    "    b = np.matmul(GinvXT, train_ys)\n",
    "    \n",
    "    #calculate the MSE and add it to our array\n",
    "    train_MSEs[l_index] = calculate_MSE(train_xs, train_ys, b)\n",
    "    validate_MSEs[l_index] = calculate_MSE(validate_xs, validate_ys, b)\n",
    "    if(validate_MSEs[l_index] < min_validate_MSE):\n",
    "       min_validate_MSE = validate_MSEs[l_index]\n",
    "       lambda_at_min = lam\n",
    "\n",
    "\n",
    "# Now graph the relationship between lambda and MSE\n",
    "plt.plot(lambdas[1:], train_MSEs[1:], \"ro\")\n",
    "plt.plot(lambdas[1:], validate_MSEs[1:], \"o\")\n",
    "plt.show()\n",
    "print(\"The best value for lambda is \" + str(lambda_at_min) + \", where the error is \" + str(validate_MSEs[l_index]))"
   ]
  },
  {
   "cell_type": "code",
   "execution_count": 131,
   "metadata": {},
   "outputs": [
    {
     "name": "stdout",
     "output_type": "stream",
     "text": [
      "The MSE of the test set is 10.7330023809\n"
     ]
    },
    {
     "data": {
      "image/png": "[encoded data removed]",
      "text/plain": [
       "<matplotlib.figure.Figure at 0x113e76290>"
      ]
     },
     "metadata": {},
     "output_type": "display_data"
    }
   ],
   "source": [
    "#Q1b continued - Asher Wright\n",
    "#Step 3: See how it looks on the test set\n",
    "#(separate block so that the value of lambda can be cached)\n",
    "\n",
    "#recalculate the b values for the correct lambda\n",
    "lambdaI = lambda_at_min * identity_matrix\n",
    "#G is equal to X transpose * X plus Lambda * I\n",
    "G = np.add(XTX, lambdaI)\n",
    "Ginv = np.linalg.inv(G)\n",
    "GinvXT = np.matmul(Ginv, XT)\n",
    "b = np.matmul(GinvXT, train_ys)\n",
    "\n",
    "#calculate the test set MSE\n",
    "test_MSE = calculate_MSE(test_xs, test_ys, b)\n",
    "\n",
    "print(\"The MSE of the test set is \" + str(test_MSE))\n",
    "\n",
    "#plot the fit on the test set\n",
    "#new_b = b[0:21]\n",
    "#new_polynomial = np.poly1d(new_b[::-1])\n",
    "#new_x_poly = np.arange(-1,1,0.01)\n",
    "#new_y_poly = new_polynomial(new_x_poly)\n",
    "#plt.plot(new_x_poly, new_y_poly)\n",
    "polynomial = np.poly1d(b[::-1])\n",
    "x_poly = np.arange(-1,1,0.01)\n",
    "y_poly = polynomial(x_poly)\n",
    "plt.plot(x_poly, y_poly)\n",
    "plt.plot(test_xs, test_ys, 'o')\n",
    "plt.plot(train_xs, train_ys, 'ro')\n",
    "plt.plot(validate_xs, validate_ys, 'o')\n",
    "plt.show()"
   ]
  },
  {
   "cell_type": "code",
   "execution_count": 98,
   "metadata": {},
   "outputs": [
    {
     "name": "stdout",
     "output_type": "stream",
     "text": [
      "[-3.18980327  8.19659089  0.60130469 -5.5685419   5.82836271  7.1904354\n",
      "  3.35266913  7.57570568  1.81089018  4.94358647  1.72522583  2.19663508\n",
      "  1.99716299  0.04130233  1.97205041 -1.41319462  1.46647829 -2.23966538\n",
      "  0.53128578 -2.56374997 -0.70674843]\n"
     ]
    }
   ],
   "source": [
    "print(b)"
   ]
  },
  {
   "cell_type": "code",
   "execution_count": null,
   "metadata": {
    "collapsed": true
   },
   "outputs": [],
   "source": []
  }
 ],
 "metadata": {
  "kernelspec": {
   "display_name": "Python 2",
   "language": "python",
   "name": "python2"
  },
  "language_info": {
   "codemirror_mode": {
    "name": "ipython",
    "version": 2
   },
   "file_extension": ".py",
   "mimetype": "text/x-python",
   "name": "python",
   "nbconvert_exporter": "python",
   "pygments_lexer": "ipython2",
   "version": "2.7.14"
  }
 },
 "nbformat": 4,
 "nbformat_minor": 2
}
