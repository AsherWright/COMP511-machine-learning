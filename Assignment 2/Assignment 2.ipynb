{
 "cells": [
  {
   "cell_type": "code",
   "execution_count": 1,
   "metadata": {
    "collapsed": true
   },
   "outputs": [],
   "source": [
    "# COMP 551 - Assignment 2\n",
    "# Asher Wright - 260559393\n",
    "import numpy as np\n",
    "import math\n",
    "import matplotlib.pyplot as plt\n",
    "\n",
    "#Q1: Creating our dataset\n",
    "\n",
    "#read data from files\n",
    "ds1_mean_neg = np.genfromtxt(open(\"Datasets/DS1_m_0.txt\", \"rb\"), delimiter=\",\")\n",
    "ds1_mean_pos = np.genfromtxt(open(\"Datasets/DS1_m_1.txt\", \"rb\"), delimiter=\",\")\n",
    "#remove all nan values (since extra comma at ends)\n",
    "ds1_mean_neg = ds1_mean_neg[~np.isnan(ds1_mean_neg)]\n",
    "ds1_mean_pos = ds1_mean_pos[~np.isnan(ds1_mean_pos)]\n",
    "#generate and read in covariance matrix\n",
    "ds1_cov = np.zeros((len(ds1_mean_neg), len(ds1_mean_neg)))\n",
    "\n",
    "cov_count = 0\n",
    "with open(\"Datasets/DS1_Cov.txt\", \"rb\") as f:\n",
    "    for line in f:\n",
    "        values = line.split(\",\")[:-1] #remove '\\n'\n",
    "        ds1_cov[cov_count] = map(np.float, values)        \n",
    "        cov_count +=1\n",
    "\n",
    "#generate the 2000 examples for each, some test and some train\n",
    "pos_test_examples = np.random.multivariate_normal(ds1_mean_pos, ds1_cov, size=600)\n",
    "neg_test_examples = np.random.multivariate_normal(ds1_mean_neg, ds1_cov, size=600)\n",
    "pos_train_examples = np.random.multivariate_normal(ds1_mean_pos, ds1_cov, size=1400)\n",
    "neg_train_examples = np.random.multivariate_normal(ds1_mean_neg, ds1_cov, size=1400)\n",
    "\n",
    "#TODO: figure out if they want four separate files (like in A1) or one file with labels inside\n",
    "np.savetxt(\"Datasets/DS1_positive_testing\", pos_test_examples, delimiter=',')\n",
    "np.savetxt(\"Datasets/DS1_positive_training\", pos_train_examples, delimiter=',')\n",
    "np.savetxt(\"Datasets/DS1_negative_testing\", neg_test_examples, delimiter=',')\n",
    "np.savetxt(\"Datasets/DS1_negative_training\", neg_train_examples, delimiter=',')"
   ]
  },
  {
   "cell_type": "code",
   "execution_count": 2,
   "metadata": {},
   "outputs": [],
   "source": [
    "#Q2:\n",
    "def calculate_LDA_params(pos_train, neg_train):\n",
    "    #The parameters to estimate are pi, u1, u2, and sigma.\n",
    "    N1 = len(pos_train)\n",
    "    N2 = len(neg_train)\n",
    "    #Max likelihood says pi = N1/(N1 + N2)\n",
    "    pi = float(N1) / float(N1 + N2)\n",
    "    #Max likelihood says ui = mean of all points of type i\n",
    "    mu_1 = np.mean(pos_train, 0)\n",
    "    mu_2 = np.mean(neg_train, 0)\n",
    "    #Max likelihood says sigma = N1/N * S1 + N2/N * S2 where Si = 1/Ni* SUM[(X(n)-ui)(X(n)-ui)^T]\n",
    "\n",
    "    #calculate S1 and S2 using the training examples\n",
    "    S1 = np.cov(pos_train.T)\n",
    "    S2 = np.cov(neg_train.T)\n",
    "    #not really necessary since we know it's equal (and half and half)\n",
    "    Sigma = (N1*S1)/(N1 + N2) + (N2 * S2)/(N1 + N2)\n",
    "\n",
    "    Sigma_inv = np.linalg.inv(Sigma)\n",
    "    #now calculate the parameters of the model\n",
    "    w_param = np.matmul(Sigma_inv,(mu_1 - mu_2))\n",
    "    #print(Sigma_inv)\n",
    "    w_0_param = (-1)* np.matmul(np.matmul(mu_1.T,Sigma_inv), mu_1) / 2. + np.matmul(np.matmul(mu_2.T, Sigma_inv), mu_2) / 2. + np.log(pi/(1 - pi))\n",
    "    return w_param, w_0_param"
   ]
  },
  {
   "cell_type": "code",
   "execution_count": 3,
   "metadata": {},
   "outputs": [
    {
     "name": "stdout",
     "output_type": "stream",
     "text": [
      "(0.9566666666666667, 0.9724137931034482, 0.94, 0.9559322033898304)\n",
      "[-14.71783675   8.80345053   6.47987358   3.55552355  10.15517015\n",
      "   4.14914496 -18.31249635  24.51818702  30.33091802  -9.01708266\n",
      "  13.2480541   13.37113899 -16.70963234 -13.78906079   5.69519961\n",
      " -13.31643455 -30.93908326   6.80251193   1.37150708   5.31150738]\n",
      "-27.9993734416\n"
     ]
    }
   ],
   "source": [
    "#We now have our w and w_0 from the training set. We will use it on the test set.\n",
    "def sigmoid(x):\n",
    "  return 1 / (1 + math.exp(-x))\n",
    "\n",
    "def LDA_accuracy(w, w_0, pos_test, neg_test):\n",
    "    wrongly_classified = 0.\n",
    "    false_negatives = 0.\n",
    "    true_positives = 0.\n",
    "    false_positives = 0.\n",
    "    true_negatives = 0.\n",
    "    for val in pos_test:\n",
    "        probability = sigmoid(np.matmul(w.T, val)+w_0)\n",
    "        if(probability < 0.5):\n",
    "            wrongly_classified +=1\n",
    "            false_negatives +=1\n",
    "        else:\n",
    "            true_positives +=1\n",
    "\n",
    "    for val in neg_test:\n",
    "        probability = sigmoid(np.matmul(w.T, val)+w_0)\n",
    "        if(probability > 0.5):\n",
    "            wrongly_classified +=1\n",
    "            false_positives +=1\n",
    "        else:\n",
    "            true_negatives +=1\n",
    "    #compute accuracy calculations\n",
    "    accuracy = (len(pos_test) + len(neg_test) - wrongly_classified)/(len(pos_test) + len(neg_test))\n",
    "    precision = true_positives / (true_positives + false_positives)\n",
    "    recall = true_positives / (true_positives + false_negatives)\n",
    "    f_measure = (2 * precision * recall)/(precision + recall)\n",
    "    return accuracy, precision, recall, f_measure\n",
    "\n",
    "#now call the methods\n",
    "w, w_0 = calculate_LDA_params(pos_train_examples, neg_train_examples)\n",
    "print(LDA_accuracy(w, w_0, pos_test_examples, neg_test_examples))\n",
    "print(w)\n",
    "print(w_0)"
   ]
  },
  {
   "cell_type": "code",
   "execution_count": 4,
   "metadata": {},
   "outputs": [],
   "source": [
    "#Q3: K-NN\n",
    "# go through the test set\n",
    "# for each one, find the k nearest neighbours in the train set\n",
    "# depending on whether there are more positive or negative, label the point as such.\n",
    "# we choose k odd so that we don't have any ties.\n",
    "def k_NN(pos_train, neg_train, pos_test, neg_test):\n",
    "    all_train_examples = np.concatenate((pos_train, neg_train))\n",
    "    accuracies = []\n",
    "    precisions = []\n",
    "    recalls = []\n",
    "    f_measures = []\n",
    "    ks = xrange(1, 149, 2)\n",
    "    for k in ks:\n",
    "        wrongly_classified = 0.\n",
    "        false_negatives = 0.\n",
    "        true_positives = 0.\n",
    "        false_positives = 0.\n",
    "        true_negatives = 0.\n",
    "\n",
    "        #do our positive test examples first:\n",
    "        for val in pos_test:\n",
    "            #take the difference\n",
    "            diff = all_train_examples - val\n",
    "            norms = np.linalg.norm(diff, axis=1)\n",
    "            lowest_indices = norms.argsort()[:k]\n",
    "            pos_neighbours = 0.\n",
    "            for ind in lowest_indices:\n",
    "                if(ind < len(pos_train)):\n",
    "                    pos_neighbours +=1.\n",
    "            if pos_neighbours < float(k)/2:\n",
    "                wrongly_classified +=1\n",
    "                false_negatives +=1\n",
    "            else:\n",
    "                true_positives +=1\n",
    "\n",
    "        #print((len(pos_test_examples) - wrongly_classified)/(len(pos_test_examples)))\n",
    "\n",
    "        neg_wrong_class = 0.\n",
    "        #Now do the same thing for the negative test examples\n",
    "        #for val in neg_test_examples:\n",
    "        for val in neg_test:\n",
    "            #take the difference\n",
    "            diff = all_train_examples - val\n",
    "            norms = np.linalg.norm(diff, axis=1)\n",
    "            lowest_indices = norms.argsort()[:k]\n",
    "            pos_neighbours = 0.\n",
    "            for ind in lowest_indices:\n",
    "                if(ind < len(pos_train)):\n",
    "                    pos_neighbours +=1.\n",
    "            if pos_neighbours > float(k)/2:\n",
    "                wrongly_classified +=1\n",
    "                neg_wrong_class +=1\n",
    "                false_positives +=1\n",
    "            else:\n",
    "                true_negatives +=1\n",
    "        # now calculate the accuracy values for this k, and store them\n",
    "        accuracy = (len(pos_test) + len(neg_test) - wrongly_classified)/(len(pos_test) + len(neg_test))\n",
    "        precision = true_positives / (true_positives + false_positives)\n",
    "        recall = true_positives / (true_positives + false_negatives)\n",
    "        accuracies.append(accuracy)\n",
    "        precisions.append(precision)\n",
    "        recalls.append(recall)\n",
    "        f_measures.append((2 * precision * recall)/(precision + recall))\n",
    "    return ks, accuracies, precisions, recalls, f_measures\n",
    "\n",
    "def plot_K_NN(ks, f_measures):\n",
    "    #now we can plot the data\n",
    "    plt.plot(ks, f_measures, 'ro')\n",
    "    plt.ylabel(\"F-measure\")\n",
    "    plt.xlabel(\"k value\")\n",
    "    plt.title(\"F-measure vs k value for DS1\")\n",
    "    max_f_measure = max(f_measures)\n",
    "    max_k = f_measures.index(max_f_measure)\n",
    "    print(\"The highest f1 measure occurs when k = \" + str(ks[max_k]) + \", and is \" + str(100*max_f_measure) + \"%\")\n",
    "    plt.show()"
   ]
  },
  {
   "cell_type": "code",
   "execution_count": 5,
   "metadata": {
    "scrolled": true
   },
   "outputs": [
    {
     "name": "stdout",
     "output_type": "stream",
     "text": [
      "The highest f1 measure occurs when k = 9, and is 55.3299492386%\n"
     ]
    },
    {
     "data": {
      "image/png": "[encoded data removed]",
      "text/plain": [
       "<matplotlib.figure.Figure at 0x104a4ef10>"
      ]
     },
     "metadata": {},
     "output_type": "display_data"
    }
   ],
   "source": [
    "k_vals, accs, precs, recs, fs = k_NN(pos_train_examples, neg_train_examples, pos_test_examples, neg_test_examples)\n",
    "plot_K_NN(k_vals, fs)"
   ]
  },
  {
   "cell_type": "code",
   "execution_count": 6,
   "metadata": {},
   "outputs": [
    {
     "name": "stdout",
     "output_type": "stream",
     "text": [
      "(0.56, 0.5618556701030928, 0.545, 0.5532994923857867)\n"
     ]
    }
   ],
   "source": [
    "max_ind = np.argmax(fs)\n",
    "print(accs[max_ind], precs[max_ind], recs[max_ind], fs[max_ind])"
   ]
  },
  {
   "cell_type": "code",
   "execution_count": 7,
   "metadata": {},
   "outputs": [],
   "source": [
    "#Q4 reading in data\n",
    "ds2_mean_pos_1 = np.genfromtxt(open(\"Datasets/DS2_c1_m1.txt\", \"rb\"), delimiter=\",\")\n",
    "ds2_mean_pos_2 = np.genfromtxt(open(\"Datasets/DS2_c1_m2.txt\", \"rb\"), delimiter=\",\")\n",
    "ds2_mean_pos_3 = np.genfromtxt(open(\"Datasets/DS2_c1_m3.txt\", \"rb\"), delimiter=\",\")\n",
    "ds2_mean_neg_1 = np.genfromtxt(open(\"Datasets/DS2_c2_m1.txt\", \"rb\"), delimiter=\",\")\n",
    "ds2_mean_neg_2 = np.genfromtxt(open(\"Datasets/DS2_c2_m2.txt\", \"rb\"), delimiter=\",\")\n",
    "ds2_mean_neg_3 = np.genfromtxt(open(\"Datasets/DS2_c2_m3.txt\", \"rb\"), delimiter=\",\")\n",
    "\n",
    "# Remove nan values\n",
    "ds2_mean_pos_1 = ds2_mean_pos_1[~np.isnan(ds2_mean_pos_1)]\n",
    "ds2_mean_pos_2 = ds2_mean_pos_2[~np.isnan(ds2_mean_pos_2)]\n",
    "ds2_mean_pos_3 = ds2_mean_pos_3[~np.isnan(ds2_mean_pos_3)]\n",
    "ds2_mean_neg_1 = ds2_mean_neg_1[~np.isnan(ds2_mean_neg_1)]\n",
    "ds2_mean_neg_2 = ds2_mean_neg_2[~np.isnan(ds2_mean_neg_2)]\n",
    "ds2_mean_neg_3 = ds2_mean_neg_3[~np.isnan(ds2_mean_neg_3)]\n",
    "\n",
    "#Read in all of the covariance matrices\n",
    "ds2_cov1 = np.zeros((len(ds2_mean_pos_1), len(ds2_mean_pos_1)))\n",
    "ds2_cov2 = np.zeros((len(ds2_mean_pos_2), len(ds2_mean_pos_2)))\n",
    "ds2_cov3 = np.zeros((len(ds2_mean_pos_3), len(ds2_mean_pos_3)))\n",
    "\n",
    "cov_count = 0\n",
    "with open(\"Datasets/DS2_Cov1.txt\", \"rb\") as f:\n",
    "    for line in f:\n",
    "        values = line.split(\",\")[:-1] #remove '\\n'\n",
    "        ds2_cov1[cov_count] = map(np.float, values)        \n",
    "        cov_count +=1\n",
    "    \n",
    "cov_count = 0\n",
    "with open(\"Datasets/DS2_Cov2.txt\", \"rb\") as f:\n",
    "    for line in f:\n",
    "        values = line.split(\",\")[:-1] #remove '\\n'\n",
    "        ds2_cov2[cov_count] = map(np.float, values)        \n",
    "        cov_count +=1\n",
    "\n",
    "cov_count = 0\n",
    "with open(\"Datasets/DS2_Cov3.txt\", \"rb\") as f:\n",
    "    for line in f:\n",
    "        values = line.split(\",\")[:-1] #remove '\\n'\n",
    "        ds2_cov3[cov_count] = map(np.float, values)        \n",
    "        cov_count +=1\n"
   ]
  },
  {
   "cell_type": "code",
   "execution_count": 8,
   "metadata": {
    "collapsed": true
   },
   "outputs": [],
   "source": [
    "# now that we've read in all our data we can generate our data set\n",
    "# We will have 1200 test values and 2800 training values (same as before)\n",
    "# Based on the probabilities: 0.1, 0.42, 0.48, we want [120 test & 280 train, 504 test & 1176 train, 576 & 1344 train]\n",
    "# We are also going for half of each to be positive and half to be negative\n",
    "pos_test_1_examples = np.random.multivariate_normal(ds2_mean_pos_1, ds1_cov, size=60)\n",
    "neg_test_1_examples = np.random.multivariate_normal(ds2_mean_neg_1, ds1_cov, size=60)\n",
    "pos_train_1_examples = np.random.multivariate_normal(ds2_mean_pos_1, ds1_cov, size=140)\n",
    "neg_train_1_examples = np.random.multivariate_normal(ds2_mean_neg_1, ds1_cov, size=140)\n",
    "pos_test_2_examples = np.random.multivariate_normal(ds2_mean_pos_2, ds1_cov, size=252)\n",
    "neg_test_2_examples = np.random.multivariate_normal(ds2_mean_neg_2, ds1_cov, size=252)\n",
    "pos_train_2_examples = np.random.multivariate_normal(ds2_mean_pos_2, ds1_cov, size=588)\n",
    "neg_train_2_examples = np.random.multivariate_normal(ds2_mean_neg_2, ds1_cov, size=588)\n",
    "pos_test_3_examples = np.random.multivariate_normal(ds2_mean_pos_3, ds1_cov, size=288)\n",
    "neg_test_3_examples = np.random.multivariate_normal(ds2_mean_neg_3, ds1_cov, size=288)\n",
    "pos_train_3_examples = np.random.multivariate_normal(ds2_mean_pos_3, ds1_cov, size=672)\n",
    "neg_train_3_examples = np.random.multivariate_normal(ds2_mean_neg_3, ds1_cov, size=672)\n",
    "\n",
    "#we now have all of our data in, we can combine it into one data set, with labels, to make it easier to handle.\n",
    "positive_test_examples = np.concatenate((pos_test_1_examples,pos_test_2_examples,pos_test_3_examples))\n",
    "negative_test_examples = np.concatenate((neg_test_1_examples,neg_test_2_examples,neg_test_3_examples))\n",
    "positive_train_examples = np.concatenate((pos_train_1_examples,pos_train_2_examples,pos_train_3_examples))\n",
    "negative_train_examples = np.concatenate((neg_train_1_examples,neg_train_2_examples,neg_train_3_examples))\n",
    "\n",
    "np.savetxt(\"Datasets/DS2_positive_testing\", positive_test_examples, delimiter=',')\n",
    "np.savetxt(\"Datasets/DS2_positive_training\", positive_train_examples, delimiter=',')\n",
    "np.savetxt(\"Datasets/DS2_negative_testing\", negative_test_examples, delimiter=',')\n",
    "np.savetxt(\"Datasets/DS2_negative_training\", negative_train_examples, delimiter=',')"
   ]
  },
  {
   "cell_type": "code",
   "execution_count": 9,
   "metadata": {},
   "outputs": [
    {
     "name": "stdout",
     "output_type": "stream",
     "text": [
      "(0.5566666666666666, 0.5548387096774193, 0.5733333333333334, 0.5639344262295082)\n",
      "[ 0.7723157  -0.4803969   0.15864259  0.25179453 -0.52403222 -0.30294318\n",
      "  0.24881292 -1.53238549 -1.26832533  0.71010563 -0.68433449 -0.20290736\n",
      "  0.50772785  0.42392614 -0.39949805  0.82483526  0.9551392  -0.46600794\n",
      "  0.54648631 -0.32200573]\n",
      "0.875596078447\n"
     ]
    }
   ],
   "source": [
    "# now we can do LDA on the data set\n",
    "w, w_0 = calculate_LDA_params(positive_train_examples, negative_train_examples)\n",
    "print(LDA_accuracy(w, w_0, positive_test_examples, negative_test_examples))\n",
    "print(w)\n",
    "print(w_0)"
   ]
  },
  {
   "cell_type": "code",
   "execution_count": 10,
   "metadata": {},
   "outputs": [
    {
     "name": "stdout",
     "output_type": "stream",
     "text": [
      "The highest f1 measure occurs when k = 9, and is 51.8581081081%\n"
     ]
    },
    {
     "data": {
      "image/png": "[encoded data removed]",
      "text/plain": [
       "<matplotlib.figure.Figure at 0x10e4d3cd0>"
      ]
     },
     "metadata": {},
     "output_type": "display_data"
    }
   ],
   "source": [
    "k_vals, accs, precs, recs, fs  = k_NN(positive_train_examples, negative_train_examples, positive_test_examples, negative_test_examples)\n",
    "plot_K_NN(k_vals, fs)"
   ]
  },
  {
   "cell_type": "code",
   "execution_count": 11,
   "metadata": {},
   "outputs": [
    {
     "name": "stdout",
     "output_type": "stream",
     "text": [
      "(0.525, 0.5256849315068494, 0.5116666666666667, 0.5185810810810811)\n"
     ]
    }
   ],
   "source": [
    "max_ind = np.argmax(fs)\n",
    "print(accs[max_ind], precs[max_ind], recs[max_ind], fs[max_ind])"
   ]
  },
  {
   "cell_type": "code",
   "execution_count": null,
   "metadata": {
    "collapsed": true
   },
   "outputs": [],
   "source": []
  }
 ],
 "metadata": {
  "kernelspec": {
   "display_name": "Python 2",
   "language": "python",
   "name": "python2"
  },
  "language_info": {
   "codemirror_mode": {
    "name": "ipython",
    "version": 2
   },
   "file_extension": ".py",
   "mimetype": "text/x-python",
   "name": "python",
   "nbconvert_exporter": "python",
   "pygments_lexer": "ipython2",
   "version": "2.7.14"
  }
 },
 "nbformat": 4,
 "nbformat_minor": 2
}
