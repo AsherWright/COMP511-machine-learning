{
 "cells": [
  {
   "cell_type": "code",
   "execution_count": 56,
   "metadata": {},
   "outputs": [],
   "source": [
    "# COMP 551 - Assignment 2\n",
    "# Asher Wright - 260559393\n",
    "import numpy as np\n",
    "import matplotlib.pyplot as plt\n",
    "\n",
    "#Q1: Creating our dataset\n",
    "\n",
    "#read data from files\n",
    "ds1_mean_neg = np.genfromtxt(open(\"Datasets/DS1_m_0.txt\", \"rb\"), delimiter=\",\")\n",
    "ds1_mean_pos = np.genfromtxt(open(\"Datasets/DS1_m_1.txt\", \"rb\"), delimiter=\",\")\n",
    "#remove all nan values (since extra comma at ends)\n",
    "ds1_mean_neg = ds1_mean_neg[~np.isnan(ds1_mean_neg)]\n",
    "ds1_mean_pos = ds1_mean_pos[~np.isnan(ds1_mean_pos)]\n",
    "#generate and read in covariance matrix\n",
    "ds1_cov = np.zeros((len(ds1_mean_neg), len(ds1_mean_neg)))\n",
    "\n",
    "cov_count = 0\n",
    "with open(\"Datasets/DS1_Cov.txt\", \"rb\") as f:\n",
    "    for line in f:\n",
    "        values = line.split(\",\")[:-1] #remove '\\n'\n",
    "        ds1_cov[cov_count] = map(np.float, values)        \n",
    "        cov_count +=1\n",
    "\n",
    "#generate the 2000 examples for each, some test and some train\n",
    "pos_test_examples = np.random.multivariate_normal(ds1_mean_pos, ds1_cov, size=600)\n",
    "neg_test_examples = np.random.multivariate_normal(ds1_mean_neg, ds1_cov, size=600)\n",
    "pos_train_examples = np.random.multivariate_normal(ds1_mean_pos, ds1_cov, size=1400)\n",
    "neg_train_examples = np.random.multivariate_normal(ds1_mean_neg, ds1_cov, size=1400)\n",
    "\n",
    "#TODO: figure out if they want four separate files (like in A1) or one file with labels inside\n",
    "np.savetxt(\"Datasets/DS1_positive_testing\", pos_test_examples, delimiter=',')\n",
    "np.savetxt(\"Datasets/DS1_positive_training\", pos_train_examples, delimiter=',')\n",
    "np.savetxt(\"Datasets/DS1_negative_testing\", neg_test_examples, delimiter=',')\n",
    "np.savetxt(\"Datasets/DS1_negative_training\", neg_train_examples, delimiter=',')"
   ]
  },
  {
   "cell_type": "code",
   "execution_count": 59,
   "metadata": {},
   "outputs": [
    {
     "name": "stdout",
     "output_type": "stream",
     "text": [
      "[ 1.98310111  2.02712398  2.05309488  2.00242037  1.9696677   2.01673581\n",
      "  2.00433754  2.0300231   2.02140217  2.01575816  1.98205137  2.02023\n",
      "  2.03896195  1.99665516  1.9982927   2.03219244  2.03208193  2.0296089\n",
      "  2.00910179  2.01535706]\n",
      "[ 1.35910737  1.35608647  1.36585033  1.34122653  1.35557239  1.33065479\n",
      "  1.38457661  1.32844812  1.33716293  1.32780258  1.3641195   1.34343924\n",
      "  1.3495588   1.3276203   1.33726947  1.29994198  1.35128655  1.29397786\n",
      "  1.37264626  1.33145967]\n"
     ]
    }
   ],
   "source": [
    "#Q2:\n",
    "#The parameters to estimate are pi, u1, u2, and sigma.\n",
    "#Max likelihood says pi = N1/(N1 + N2)\n",
    "pi = len(pos_train_examples) / (len(neg_train_examples) + len(pos_train_examples))\n",
    "#Max likelihood says ui = mean of all points of type i\n",
    "mu_1 = np.mean(pos_train_examples, 0)\n",
    "mu_2 = np.mean(neg_train_examples, 0)\n",
    "#Max likelihood says sigma = N1/N * S1 + N2/N * S2 where Si = 1/Ni* SUM[(X(n)-ui)(X(n)-ui)^T]\n",
    "\n",
    "S1 = XX\n",
    "S2 = XX"
   ]
  },
  {
   "cell_type": "code",
   "execution_count": null,
   "metadata": {
    "collapsed": true
   },
   "outputs": [],
   "source": []
  }
 ],
 "metadata": {
  "kernelspec": {
   "display_name": "Python 2",
   "language": "python",
   "name": "python2"
  },
  "language_info": {
   "codemirror_mode": {
    "name": "ipython",
    "version": 2
   },
   "file_extension": ".py",
   "mimetype": "text/x-python",
   "name": "python",
   "nbconvert_exporter": "python",
   "pygments_lexer": "ipython2",
   "version": "2.7.14"
  }
 },
 "nbformat": 4,
 "nbformat_minor": 2
}
